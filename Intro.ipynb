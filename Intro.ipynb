{
 "cells": [
  {
   "cell_type": "code",
   "execution_count": null,
   "id": "b5ae2e60-7c16-470a-b95d-dfbdd730d57a",
   "metadata": {},
   "outputs": [],
   "source": [
    "from qiskit import QuantumRegister, ClassicalRegister, QuantumCircuit, Aer, execute\n",
    "import numpy as np\n",
    "import math as m\n",
    "\n",
    "S_Simulator = Aer.backends(name=\"statevector_simulator\")[0]\n",
    "M_Simulator = Aer.backends(name=\"qasm_simulator\")[0]\n",
    "\n"
   ]
  },
  {
   "cell_type": "markdown",
   "id": "2cc2f6aa-663b-4625-ac4f-d99f99dd1bf4",
   "metadata": {},
   "source": [
    "<h2> 1 Qubit circuit </h2>"
   ]
  },
  {
   "cell_type": "code",
   "execution_count": 3,
   "id": "7d533813-c746-4fe6-a38b-208de675dcc6",
   "metadata": {},
   "outputs": [
    {
     "name": "stdout",
     "output_type": "stream",
     "text": [
      "Statevector([1.+0.j, 0.+0.j],\n",
      "            dims=(2,))\n"
     ]
    }
   ],
   "source": [
    "q_reg = QuantumRegister(1,\"q\")\n",
    "c_reg = ClassicalRegister(1,\"c\")\n",
    "\n",
    "firstCircuit = QuantumCircuit(q_reg,c_reg)\n",
    "\n",
    "firstCircuit.id(q_reg[0])\n",
    "\n",
    "job = execute(firstCircuit, S_Simulator)\n",
    "result = job.result()\n",
    "result.get_statevector()"
   ]
  },
  {
   "cell_type": "code",
   "execution_count": 6,
   "id": "34944461-d76c-4ba2-9146-5bd5ce40b637",
   "metadata": {},
   "outputs": [
    {
     "name": "stdout",
     "output_type": "stream",
     "text": [
      " job = AerJob Class <class 'qiskit_aer.jobs.aerjob.AerJob'>\n",
      " Result = Result Class <class 'qiskit.result.result.Result'>\n"
     ]
    }
   ],
   "source": [
    "S_Simulator = Aer.backends(name=\"statevector_simulator\")[0]\n",
    "\n",
    "job = execute(firstCircuit, S_Simulator)\n",
    "\n",
    "print(\" job = AerJob Class\", type(job))\n",
    "\n",
    "result = job.result()\n",
    "\n",
    "print(\" Result = Result Class\", type(result))"
   ]
  },
  {
   "cell_type": "markdown",
   "id": "ad5a4df4-850a-46b1-a84f-50eecfb3f2eb",
   "metadata": {},
   "source": [
    "<h2> 3 Qubit Circuit </h2>"
   ]
  },
  {
   "cell_type": "code",
   "execution_count": 7,
   "id": "cd5a4811-abe9-4958-a9de-f0a81306ac0b",
   "metadata": {},
   "outputs": [
    {
     "name": "stdout",
     "output_type": "stream",
     "text": [
      "Statevector([1.+0.j, 0.+0.j, 0.+0.j, 0.+0.j, 0.+0.j, 0.+0.j, 0.+0.j,\n",
      "             0.+0.j],\n",
      "            dims=(2, 2, 2))\n"
     ]
    }
   ],
   "source": [
    "q_reg = QuantumRegister(3,\"q\")\n",
    "c_reg = ClassicalRegister(3,\"c\")\n",
    "\n",
    "secondCircuit = QuantumCircuit(q_reg,c_reg)\n",
    "\n",
    "secondCircuit.id(q_reg[0])\n",
    "secondCircuit.id(q_reg[1])\n",
    "secondCircuit.id(q_reg[2])\n",
    "\n",
    "job = execute(secondCircuit, S_Simulator)\n",
    "result = job.result()\n",
    "result.get_statevector()"
   ]
  },
  {
   "cell_type": "markdown",
   "id": "dbfb28c1-4253-47a1-81e5-e473652de1af",
   "metadata": {},
   "source": [
    "<h2> 3 Qubit Circuit where  qubit 0 is in  |1>  state</h2>"
   ]
  },
  {
   "cell_type": "code",
   "execution_count": 9,
   "id": "c94a82d3-0f9a-4ddd-8707-19991941e4fb",
   "metadata": {},
   "outputs": [
    {
     "name": "stdout",
     "output_type": "stream",
     "text": [
      "Statevector([0.+0.j, 1.+0.j, 0.+0.j, 0.+0.j, 0.+0.j, 0.+0.j, 0.+0.j,\n",
      "             0.+0.j],\n",
      "            dims=(2, 2, 2))\n"
     ]
    }
   ],
   "source": [
    "q_reg = QuantumRegister(3,\"q\")\n",
    "c_reg = ClassicalRegister(3,\"c\")\n",
    "\n",
    "thirdCircuit = QuantumCircuit(q_reg,c_reg)\n",
    "\n",
    "thirdCircuit.x(q_reg[0])\n",
    "\n",
    "thirdCircuit.id(q_reg[1])\n",
    "thirdCircuit.id(q_reg[2])\n",
    "\n",
    "job = execute(thirdCircuit, S_Simulator)\n",
    "result = job.result()\n",
    "result.get_statevector()"
   ]
  }
 ],
 "metadata": {
  "kernelspec": {
   "display_name": "Python 3 (ipykernel)",
   "language": "python",
   "name": "python3"
  },
  "language_info": {
   "codemirror_mode": {
    "name": "ipython",
    "version": 3
   },
   "file_extension": ".py",
   "mimetype": "text/x-python",
   "name": "python",
   "nbconvert_exporter": "python",
   "pygments_lexer": "ipython3",
   "version": "3.9.18"
  }
 },
 "nbformat": 4,
 "nbformat_minor": 5
}
